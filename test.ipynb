{
 "cells": [
  {
   "cell_type": "code",
   "execution_count": 1,
   "id": "e9a3dacd-c397-4d46-95b2-87f75d61a8aa",
   "metadata": {
    "tags": []
   },
   "outputs": [],
   "source": [
    "from game import *\n",
    "g = game()"
   ]
  },
  {
   "cell_type": "code",
   "execution_count": 2,
   "id": "4ca109f0-d3e0-45f7-8a3d-7d944fb4399f",
   "metadata": {
    "tags": []
   },
   "outputs": [
    {
     "data": {
      "text/plain": [
       "array([ 0.,  1.,  1.,  0.,  0., 20.,  1., 23.,  1.,  4.,  1., 20.,  4.])"
      ]
     },
     "execution_count": 2,
     "metadata": {},
     "output_type": "execute_result"
    }
   ],
   "source": [
    "g.get_state()"
   ]
  },
  {
   "cell_type": "code",
   "execution_count": null,
   "id": "40494ef9-1549-4885-93d6-06c6db1a0b81",
   "metadata": {},
   "outputs": [],
   "source": []
  }
 ],
 "metadata": {
  "kernelspec": {
   "display_name": "Python 3 (ipykernel)",
   "language": "python",
   "name": "python3"
  },
  "language_info": {
   "codemirror_mode": {
    "name": "ipython",
    "version": 3
   },
   "file_extension": ".py",
   "mimetype": "text/x-python",
   "name": "python",
   "nbconvert_exporter": "python",
   "pygments_lexer": "ipython3",
   "version": "3.8.10"
  }
 },
 "nbformat": 4,
 "nbformat_minor": 5
}
